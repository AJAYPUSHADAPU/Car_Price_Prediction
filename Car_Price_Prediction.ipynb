{
  "nbformat": 4,
  "nbformat_minor": 0,
  "metadata": {
    "colab": {
      "provenance": [],
      "authorship_tag": "ABX9TyMFJbzY7fgWnblrni1vhv/K",
      "include_colab_link": true
    },
    "kernelspec": {
      "name": "python3",
      "display_name": "Python 3"
    },
    "language_info": {
      "name": "python"
    }
  },
  "cells": [
    {
      "cell_type": "markdown",
      "metadata": {
        "id": "view-in-github",
        "colab_type": "text"
      },
      "source": [
        "<a href=\"https://colab.research.google.com/github/AJAYPUSHADAPU/Car_Price_Prediction/blob/main/Car_Price_Prediction.ipynb\" target=\"_parent\"><img src=\"https://colab.research.google.com/assets/colab-badge.svg\" alt=\"Open In Colab\"/></a>"
      ]
    },
    {
      "cell_type": "markdown",
      "source": [
        "# IMPORTING REQUIRED LIBRARIES"
      ],
      "metadata": {
        "id": "ocjrPyP-2QM7"
      }
    },
    {
      "cell_type": "code",
      "source": [
        "import pandas as pd\n",
        "import numpy as np\n",
        "import seaborn as sns"
      ],
      "metadata": {
        "id": "hxr_sPAg2Yqy"
      },
      "execution_count": null,
      "outputs": []
    },
    {
      "cell_type": "markdown",
      "source": [
        "# READING THE DATA"
      ],
      "metadata": {
        "id": "uy9yWbX12cit"
      }
    },
    {
      "cell_type": "code",
      "source": [
        "df = pd.read_csv(\"car_price.csv\")"
      ],
      "metadata": {
        "id": "jbF24Imu2iVx"
      },
      "execution_count": null,
      "outputs": []
    },
    {
      "cell_type": "code",
      "source": [
        "df.shape"
      ],
      "metadata": {
        "id": "MgWCyLdy2oFy"
      },
      "execution_count": null,
      "outputs": []
    },
    {
      "cell_type": "markdown",
      "source": [
        "# CHECKING THE NULL VALUES"
      ],
      "metadata": {
        "id": "TlUtX2oY2rN4"
      }
    },
    {
      "cell_type": "code",
      "source": [
        "df.isnull().sum()"
      ],
      "metadata": {
        "id": "nl2tG20C21zv"
      },
      "execution_count": null,
      "outputs": []
    },
    {
      "cell_type": "markdown",
      "source": [
        "# PRINTING THE COLUMN NAMES"
      ],
      "metadata": {
        "id": "QZfdNmtJ27Q1"
      }
    },
    {
      "cell_type": "code",
      "source": [
        "df.columns"
      ],
      "metadata": {
        "id": "nYeyRqIS2_er"
      },
      "execution_count": null,
      "outputs": []
    },
    {
      "cell_type": "markdown",
      "source": [
        "# MODIFYING THE DATASET"
      ],
      "metadata": {
        "id": "5z2NmS6g3Cuq"
      }
    },
    {
      "cell_type": "code",
      "source": [
        "data = df[['year','selling_price','km_driven','fuel','seller_type','transmission','owner']]\n",
        "data.head()"
      ],
      "metadata": {
        "id": "8dvvxVYZ3Hx7"
      },
      "execution_count": null,
      "outputs": []
    },
    {
      "cell_type": "code",
      "source": [
        "data['Current Year']=2020"
      ],
      "metadata": {
        "id": "MAgp0Wkd3Q6v"
      },
      "execution_count": null,
      "outputs": []
    },
    {
      "cell_type": "code",
      "source": [
        "data['no_year'] = data['Current Year'] - data['year']"
      ],
      "metadata": {
        "id": "jmNUo-9e3TpZ"
      },
      "execution_count": null,
      "outputs": []
    },
    {
      "cell_type": "code",
      "source": [
        "data.drop(['year'],axis=1,inplace=True)"
      ],
      "metadata": {
        "id": "56s-FQO_3WV8"
      },
      "execution_count": null,
      "outputs": []
    },
    {
      "cell_type": "code",
      "source": [
        "data.head()"
      ],
      "metadata": {
        "id": "5XItkbKB3Yy5"
      },
      "execution_count": null,
      "outputs": []
    },
    {
      "cell_type": "code",
      "source": [
        "data.drop(['Current Year'],axis=1,inplace=True)"
      ],
      "metadata": {
        "id": "9MLnCHyw3glI"
      },
      "execution_count": null,
      "outputs": []
    },
    {
      "cell_type": "markdown",
      "source": [
        "# REPLACING THE CATEGORICAL VALUES WITH INTEGER VALUES"
      ],
      "metadata": {
        "id": "g4aFJ4_v3iHS"
      }
    },
    {
      "cell_type": "code",
      "source": [
        "data['seller_type'].unique()"
      ],
      "metadata": {
        "id": "qF_1gWCi3orb"
      },
      "execution_count": null,
      "outputs": []
    },
    {
      "cell_type": "code",
      "source": [
        "data = data.replace({'seller_type':{'Individual':0,'Dealer':1,'Trustmark Dealer':2}})\n",
        "data.head()"
      ],
      "metadata": {
        "id": "cbA-2B043rot"
      },
      "execution_count": null,
      "outputs": []
    },
    {
      "cell_type": "code",
      "source": [
        "data.fuel.unique()"
      ],
      "metadata": {
        "id": "9EFy99k33yFm"
      },
      "execution_count": null,
      "outputs": []
    },
    {
      "cell_type": "code",
      "source": [
        "data = data.replace({'fuel':{'Petrol':0,'Diesel':1,'CNG':2,'LPG':3,'Electric':4}})\n",
        "data.head()"
      ],
      "metadata": {
        "id": "1eK_urMN3y7q"
      },
      "execution_count": null,
      "outputs": []
    },
    {
      "cell_type": "code",
      "source": [
        "data.transmission.unique()"
      ],
      "metadata": {
        "id": "U6lZ9ubf34jR"
      },
      "execution_count": null,
      "outputs": []
    },
    {
      "cell_type": "code",
      "source": [
        "data = data.replace({'transmission':{'Manual':0,'Automatic':1}})\n",
        "data.head()"
      ],
      "metadata": {
        "id": "KyFwKC2i35cF"
      },
      "execution_count": null,
      "outputs": []
    },
    {
      "cell_type": "code",
      "source": [
        "data.owner.unique()"
      ],
      "metadata": {
        "id": "nA-atLJC3_Xz"
      },
      "execution_count": null,
      "outputs": []
    },
    {
      "cell_type": "code",
      "source": [
        "data = data.replace({'owner':{'First Owner':0,'Second Owner':1,'Third Owner':2,'Fourth & Above Owner':3,'Test Drive Car':4}})\n",
        "data.head()"
      ],
      "metadata": {
        "id": "yTwHpx134AbM"
      },
      "execution_count": null,
      "outputs": []
    },
    {
      "cell_type": "markdown",
      "source": [
        "# DIVIDING THE DEPENDENT AND INDEPENDENT VARIABLES"
      ],
      "metadata": {
        "id": "hCDjMB5U4Fvh"
      }
    },
    {
      "cell_type": "code",
      "source": [
        "y = data['selling_price']\n",
        "X = data.drop(['selling_price'],axis=1)"
      ],
      "metadata": {
        "id": "pHVI-ONh4KvV"
      },
      "execution_count": null,
      "outputs": []
    },
    {
      "cell_type": "markdown",
      "source": [
        "# SPLITTING THE DATA INTO TRAING AND TESTING"
      ],
      "metadata": {
        "id": "51buHo7J4NgX"
      }
    },
    {
      "cell_type": "code",
      "source": [
        "from sklearn.model_selection import train_test_split\n",
        "X_train, X_test, y_train, y_test = train_test_split(X, y, test_size=0.3, random_state=0)"
      ],
      "metadata": {
        "id": "cKmIHwSY4Spv"
      },
      "execution_count": null,
      "outputs": []
    },
    {
      "cell_type": "markdown",
      "source": [
        "# IMPORTING THE REGRESSION ALGORITHM"
      ],
      "metadata": {
        "id": "68nqACiD4VId"
      }
    },
    {
      "cell_type": "code",
      "source": [
        "from sklearn.ensemble import RandomForestRegressor"
      ],
      "metadata": {
        "id": "VJAHVGDH4ZwI"
      },
      "execution_count": null,
      "outputs": []
    },
    {
      "cell_type": "code",
      "source": [
        "from sklearn.ensemble import RandomForestRegressor"
      ],
      "metadata": {
        "id": "-2dpC53L4ckE"
      },
      "execution_count": null,
      "outputs": []
    },
    {
      "cell_type": "code",
      "source": [
        "mdl = RandomForestRegressor()"
      ],
      "metadata": {
        "id": "fLz4S3v74fCB"
      },
      "execution_count": null,
      "outputs": []
    },
    {
      "cell_type": "markdown",
      "source": [
        "# FITTING THE MODEL"
      ],
      "metadata": {
        "id": "87pnTSBg4jd0"
      }
    },
    {
      "cell_type": "code",
      "source": [
        "mdl.fit(X_train,y_train)"
      ],
      "metadata": {
        "id": "d4geJXna4lzT"
      },
      "execution_count": null,
      "outputs": []
    },
    {
      "cell_type": "markdown",
      "source": [
        "# PREDICTING THE MODEL"
      ],
      "metadata": {
        "id": "xoLeki8C4p6g"
      }
    },
    {
      "cell_type": "code",
      "source": [
        "y_pred = mdl.predict(X_test)"
      ],
      "metadata": {
        "id": "CeCov9dt4uR9"
      },
      "execution_count": null,
      "outputs": []
    },
    {
      "cell_type": "markdown",
      "source": [
        "# CHECKING THE ACCURACY OF THEM"
      ],
      "metadata": {
        "id": "IRsAeMuT4zHR"
      }
    },
    {
      "cell_type": "code",
      "source": [
        "from sklearn import metrics\n",
        "meanAbErr = metrics.mean_absolute_error(y_test, y_pred)\n",
        "meanSqErr = metrics.mean_squared_error(y_test, y_pred)\n",
        "rootMeanSqErr = np.sqrt(metrics.mean_squared_error(y_test, y_pred))\n",
        "\n",
        "print('R squared: {:.2f}'.format(mdl.score(X,y)*100))\n",
        "print('Mean Absolute Error:', meanAbErr)\n",
        "print('Mean Square Error:', meanSqErr)\n",
        "print('Root Mean Square Error:', rootMeanSqErr)"
      ],
      "metadata": {
        "id": "qV10fB0C43OA"
      },
      "execution_count": null,
      "outputs": []
    }
  ]
}